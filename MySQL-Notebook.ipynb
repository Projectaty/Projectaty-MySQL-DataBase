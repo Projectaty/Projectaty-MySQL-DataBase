{
 "cells": [
  {
   "cell_type": "markdown",
   "metadata": {},
   "source": [
    "# Projectaty Databse"
   ]
  },
  {
   "cell_type": "markdown",
   "metadata": {},
   "source": [
    "## Specifications\n",
    "\n",
    "In this project, there exists 4 diffrent entities with diffrent attributes:\n",
    "\n",
    "<b>Entities:</b>\n",
    "\n",
    "    1. Student: StudentID (Primary Key), username, password(sha), email\n",
    "    2. Project: ProjectID (Primary Key), Title, Description(optional), Deadline (Date), PrivacySetting (Public, Private), and CreatorID (Foreign Key referencing Student)\n",
    "    3. Team: TeamID (Primary Key), ProjectID (Foreign Key referencing Project), MemberID (Foreign Key referencing Student)\n",
    "    4. Task: TaskID (Primary Key), ProjectID (Foreign Key referencing Project), Title, Description (optional), Status (Incomplete, Complete), AssignedTo (Foreign Key referencing Student)\n",
    "\n",
    "<b>Relationships:</b>\n",
    "\n",
    "    One Student can create multiple Projects.\n",
    "    One Project can have multiple Teams.\n",
    "    One Student can be a member of multiple Teams.\n",
    "    One Project can have multiple Tasks.\n",
    "    One Task is associated with one Project and can be assigned to one Student.\n"
   ]
  },
  {
   "cell_type": "markdown",
   "metadata": {},
   "source": [
    "### Create DB"
   ]
  },
  {
   "cell_type": "code",
   "execution_count": null,
   "metadata": {},
   "outputs": [],
   "source": [
    "CREATE DATABASE IF NOT EXISTS projectatyDB;\n",
    "USE projectatyDB;"
   ]
  },
  {
   "cell_type": "markdown",
   "metadata": {},
   "source": [
    "### Crerate Tables"
   ]
  },
  {
   "cell_type": "markdown",
   "metadata": {},
   "source": [
    "#### Create Student"
   ]
  },
  {
   "cell_type": "code",
   "execution_count": null,
   "metadata": {},
   "outputs": [],
   "source": [
    "CREATE TABLE Student (\n",
    "    StudentID INT PRIMARY KEY,\n",
    "    username VARCHAR(255),\n",
    "    password CHAR(40),\n",
    "    email VARCHAR(255)\n",
    ");"
   ]
  },
  {
   "cell_type": "markdown",
   "metadata": {},
   "source": [
    "#### Create Project"
   ]
  },
  {
   "cell_type": "code",
   "execution_count": null,
   "metadata": {},
   "outputs": [],
   "source": [
    "CREATE TABLE Project (\n",
    "    ProjectID INT PRIMARY KEY,\n",
    "    Title VARCHAR(255),\n",
    "    Description TEXT,\n",
    "    Deadline DATE,\n",
    "    PrivacySetting CHAR(7), -- ('Public', 'Private')\n",
    "    CreatorID INT,\n",
    "    FOREIGN KEY (CreatorID) REFERENCES Student(StudentID)\n",
    ");"
   ]
  },
  {
   "cell_type": "markdown",
   "metadata": {},
   "source": [
    "#### Create Team"
   ]
  },
  {
   "cell_type": "code",
   "execution_count": null,
   "metadata": {},
   "outputs": [],
   "source": [
    "CREATE TABLE Team (\n",
    "    TeamID INT PRIMARY KEY,\n",
    "    ProjectID INT,\n",
    "    MemberID INT,\n",
    "    FOREIGN KEY (ProjectID) REFERENCES Project(ProjectID),\n",
    "    FOREIGN KEY (MemberID) REFERENCES Student(StudentID)\n",
    ");"
   ]
  },
  {
   "cell_type": "markdown",
   "metadata": {},
   "source": [
    "#### Create Task"
   ]
  },
  {
   "cell_type": "code",
   "execution_count": null,
   "metadata": {},
   "outputs": [],
   "source": [
    "CREATE TABLE Task (\n",
    "    TaskID INT PRIMARY KEY,\n",
    "    ProjectID INT,\n",
    "    Title VARCHAR(255),\n",
    "    Description TEXT,\n",
    "    Status VARCHAR(9), -- ('Incomplete', 'Complete'),\n",
    "    AssignedTo INT,\n",
    "    FOREIGN KEY (ProjectID) REFERENCES Project(ProjectID),\n",
    "    FOREIGN KEY (AssignedTo) REFERENCES Student(StudentID)\n",
    ");"
   ]
  }
 ],
 "metadata": {
  "language_info": {
   "name": "python"
  }
 },
 "nbformat": 4,
 "nbformat_minor": 2
}
